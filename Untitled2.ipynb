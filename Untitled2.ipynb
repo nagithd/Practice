{
 "cells": [
  {
   "cell_type": "markdown",
   "id": "b79c15f4-f3ad-4bba-80c1-54172364e237",
   "metadata": {},
   "source": [
    "<center>\n",
    "    <img src=\"https://fpt.edu.vn/Resources/brand/uploads/749540_132829686029858301_o.jpg\" width=\"600\"/>\n",
    "</center>\n",
    "\n"
   ]
  },
  {
   "cell_type": "markdown",
   "id": "2f446af9-d351-4612-933d-eea2d31be1f8",
   "metadata": {},
   "source": [
    "<h1> Assignment</h1>"
   ]
  },
  {
   "cell_type": "markdown",
   "id": "0d955475-2bf6-49b5-b696-d5ca85e13e0a",
   "metadata": {
    "tags": []
   },
   "source": [
    "\n",
    "### Introduction <br>\n",
    "This is an assignment for data science course on coursera. I'm Nghia, 21 years old FPT University student."
   ]
  },
  {
   "cell_type": "markdown",
   "id": "9f9545a0-25e1-4fba-a640-32fbd8350e7c",
   "metadata": {
    "tags": []
   },
   "source": [
    "#### Data Science language <br>\n",
    "<ul>\n",
    "    <li> R </li>\n",
    "    <li> Python </li>\n",
    "    <li> Scalla </li>\n",
    "    <li> Julia </li>\n",
    "    <li> SQL </li>\n",
    "    <li> Java </li>\n",
    "</ul>"
   ]
  },
  {
   "cell_type": "markdown",
   "id": "c39990e9-55f3-4cb9-a3d3-e5f5deed9145",
   "metadata": {},
   "source": [
    "#### Data Science Libraries <br>\n",
    "<ul>\n",
    "    <li> Mathplotlib </li>\n",
    "    <li> Pytorch </li>\n",
    "    <li> Panddas </li>\n",
    "    <li> Seaborn </li>\n",
    "    <li> Tensor Flow </li>\n",
    "    <li> Keras </li>\n",
    "</ul>"
   ]
  },
  {
   "cell_type": "markdown",
   "id": "99760c68-97ae-488c-9c88-f77ce9592247",
   "metadata": {},
   "source": [
    "#### Data Science Tool\n",
    "<table style='width=30%'>\n",
    "    <tr>\n",
    "        <th>Name</th>\n",
    "        <th>Function</th>\n",
    "    </tr>\n",
    "    <tr>\n",
    "        <td>Apache Spark</td>\n",
    "        <td>Data processing and analytics</td>\n",
    "    <tr>\n",
    "        <td>JupyterNotebook</td>\n",
    "        <td>Interaction collaboration between data scientist</td>\n",
    "    </tr>\n",
    "</table>"
   ]
  },
  {
   "cell_type": "markdown",
   "id": "76368a90-7930-4317-9c33-67cc1cc9564b",
   "metadata": {},
   "source": [
    "#### MSE cost funtion for a Linear Regression Model\n",
    "&emsp;&emsp;&emsp;&emsp;&emsp;&emsp;&emsp;&emsp;$MSE(X, h_\\theta) = \\frac{1}{m}\\sum_{i=1}^m(\\theta^Tx^{(i)} - y^{(i)})^2$ &emsp;&emsp;&emsp;&emsp;&emsp;&emsp;&emsp;&emsp;&emsp;&emsp;&emsp;&emsp;"
   ]
  },
  {
   "cell_type": "code",
   "execution_count": 46,
   "id": "47ded815-6df7-46be-b230-5d7d7e2a08bb",
   "metadata": {
    "tags": []
   },
   "outputs": [
    {
     "name": "stdin",
     "output_type": "stream",
     "text": [
      "Enter a number 2\n",
      "Enter a number 3\n"
     ]
    },
    {
     "name": "stdout",
     "output_type": "stream",
     "text": [
      "6\n",
      "5\n"
     ]
    }
   ],
   "source": [
    "a = int(input('Enter a number'))\n",
    "b = int(input('Enter a number'))\n",
    "print(a*b)\n",
    "print(a+b)"
   ]
  },
  {
   "cell_type": "code",
   "execution_count": 48,
   "id": "47c05e94-f6a3-4d95-b8b7-875717f015c1",
   "metadata": {
    "tags": []
   },
   "outputs": [
    {
     "name": "stdin",
     "output_type": "stream",
     "text": [
      "Enter number of minutes 65\n"
     ]
    },
    {
     "name": "stdout",
     "output_type": "stream",
     "text": [
      "Hour 1.0833333333333333\n"
     ]
    }
   ],
   "source": [
    "a = int(input('Enter number of minutes'))\n",
    "print('Hour', a/60)"
   ]
  },
  {
   "cell_type": "markdown",
   "id": "eda1e60a-282a-4a93-b4fe-73e50ee9943e",
   "metadata": {
    "tags": []
   },
   "source": [
    "#### Objectives <br>\n",
    "<ul>\n",
    "    <li> Define data science </li>\n",
    "    <li> Learn about libraries and tools using in data science </li>\n",
    "\n",
    "</ul>"
   ]
  },
  {
   "cell_type": "markdown",
   "id": "8bb958ba-afed-40d4-a0c9-6496c6668c02",
   "metadata": {},
   "source": [
    "## Author\n",
    "#### Lê Trung Nghĩa "
   ]
  },
  {
   "cell_type": "code",
   "execution_count": null,
   "id": "b13e11b0-e918-4be1-bbe6-58f78879b937",
   "metadata": {},
   "outputs": [],
   "source": []
  }
 ],
 "metadata": {
  "kernelspec": {
   "display_name": "Python 3 (ipykernel)",
   "language": "python",
   "name": "python3"
  },
  "language_info": {
   "codemirror_mode": {
    "name": "ipython",
    "version": 3
   },
   "file_extension": ".py",
   "mimetype": "text/x-python",
   "name": "python",
   "nbconvert_exporter": "python",
   "pygments_lexer": "ipython3",
   "version": "3.11.7"
  }
 },
 "nbformat": 4,
 "nbformat_minor": 5
}
